{
 "cells": [
  {
   "cell_type": "code",
   "execution_count": 1,
   "source": [
    "print('hello world')"
   ],
   "outputs": [
    {
     "output_type": "stream",
     "name": "stdout",
     "text": [
      "hello world\n"
     ]
    }
   ],
   "metadata": {}
  },
  {
   "cell_type": "code",
   "execution_count": null,
   "source": [
    "a = 1\n",
    "b = 2\n",
    "c = a+b\n",
    "c"
   ],
   "outputs": [],
   "metadata": {}
  },
  {
   "cell_type": "markdown",
   "source": [
    "# 一级标题\n",
    "\n",
    "## 二级标题\n",
    "\n",
    "### 三级标题\n",
    "\n",
    "#### 四级标题\n"
   ],
   "metadata": {}
  },
  {
   "cell_type": "markdown",
   "source": [
    "-   一级缩进\n",
    "    -   二级缩进//前面是手动缩进\n",
    "        -   三级缩进\n",
    "-   1\n",
    "    -   2\n"
   ],
   "metadata": {}
  },
  {
   "cell_type": "markdown",
   "source": [
    "# 标题 1"
   ],
   "metadata": {}
  }
 ],
 "metadata": {
  "orig_nbformat": 4,
  "language_info": {
   "name": "python",
   "version": "3.6.13",
   "mimetype": "text/x-python",
   "codemirror_mode": {
    "name": "ipython",
    "version": 3
   },
   "pygments_lexer": "ipython3",
   "nbconvert_exporter": "python",
   "file_extension": ".py"
  },
  "kernelspec": {
   "name": "python3",
   "display_name": "Python 3.6.13 64-bit ('RockLab': conda)"
  },
  "interpreter": {
   "hash": "5e2cd2ed858fc56d670a29970c9348e3e3b538090da2cc614f95d4c3dc2e6761"
  }
 },
 "nbformat": 4,
 "nbformat_minor": 2
}