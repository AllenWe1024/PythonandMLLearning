{
 "cells": [
  {
   "cell_type": "code",
   "execution_count": 4,
   "metadata": {},
   "outputs": [],
   "source": [
    "from torch.utils.data import Dataset\n",
    "from PIL import Image\n",
    "import os\n",
    "# help(Dataset)\n",
    "\n",
    "class MyData(Dataset):\n",
    "    def __init__(self):\n",
    "        pass\n",
    "    def __getitem__(self, idx):\n",
    "        pass\n",
    "\n",
    "\n",
    "\n"
   ]
  },
  {
   "cell_type": "code",
   "execution_count": 6,
   "metadata": {},
   "outputs": [
    {
     "name": "stdout",
     "output_type": "stream",
     "text": [
      "['201790779_527f4c0168.jpg', '998118368_6ac1d91f81.jpg', '533848102_70a85ad6dd.jpg', '245647475_9523dfd13e.jpg', 'kurokusa.jpg', '450057712_771b3bfc91.jpg', 'hormiga_co_por.jpg', '1804095607_0341701e1c.jpg', '1030023514_aad5c608f9.jpg', '707895295_009cf23188.jpg', '148715752_302c84f5a4.jpg', '466430434_4000737de9.jpg', 'imageNotFound.gif', '541630764_dbd285d63c.jpg', '1489674356_09d48dde0a.jpg', '1360291657_dc248c5eea.jpg', '24335309_c5ea483bb8.jpg', '506249836_717b73f540.jpg', '957233405_25c1d1187b.jpg', '318052216_84dff3f98a.jpg', '1368913450_e146e2fb6d.jpg', '6240338_93729615ec.jpg', '116570827_e9c126745d.jpg', 'Ant_1.jpg', '460874319_0a45ab4d05.jpg', 'Nepenthes_rafflesiana_ant.jpg', '149244013_c529578289.jpg', '5650366_e22b7e1065.jpg', '82852639_52b7f7f5e3.jpg', '522415432_2218f34bf8.jpg', '224655713_3956f7d39a.jpg', '196057951_63bf063b92.jpg', '45472593_bfd624f8dc.jpg', 'trap-jaw-ant-insect-bg.jpg', 'formica.jpeg', '2265824718_2c96f485da.jpg', '386190770_672743c9a7.jpg', '342438950_a3da61deab.jpg', '649026570_e58656104b.jpg', '1095476100_3906d8afde.jpg', '6743948_2b8c096dda.jpg', '207947948_3ab29d7207.jpg', '522163566_fec115ca66.jpg', '178538489_bec7649292.jpg', '7759525_1363d24e88.jpg', '154124431_65460430f2.jpg', '2288450226_a6e96e8fdf.jpg', '1924473702_daa9aacdbe.jpg', '484293231_e53cfc0c89.jpg', '2288481644_83ff7e4572.jpg', '132478121_2a430adea2.jpg', '1693954099_46d4c20605.jpg', '506249802_207cd979b4.jpg', '470127037_513711fd21.jpg', 'MehdiabadiAnt2_600.jpg', '392382602_1b7bed32fa.jpg', '2292213964_ca51ce4bef.jpg', '459694881_ac657d3187.jpg', '162603798_40b51f1654.jpg', '841049277_b28e58ad05.jpg', '1269756697_0bce92cdab.jpg', '175998972.jpg', '403746349_71384f5b58.jpg', '196757565_326437f5fe.jpg', '474806473_ca6caab245.jpg', '512164029_c0a66b8498.jpg', '1473187633_63ccaacea6.jpg', '384191229_5779cf591b.jpg', '795000156_a9900a4a71.jpg', '938946700_ca1c669085.jpg', '1660097129_384bf54490.jpg', '424873399_47658a91fb.jpg', '1917341202_d00a7f9af5.jpg', '6240329_72c01e663e.jpg', '1225872729_6f0856588f.jpg', '540889389_48bb588b21.jpg', '150801003_3390b73135.jpg', '475961153_b8c13fd405.jpg', '512863248_43c8ce579b.jpg', '2278278459_6b99605e50.jpg', '543417860_b14237f569.jpg', '36439863_0bec9f554f.jpg', 'ant photos.jpg', '9715481_b3cb4114ff.jpg', '662541407_ff8db781e7.jpg', '518773929_734dbc5ff4.jpg', '2265825502_fff99cfd2d.jpg', '535522953_308353a07c.jpg', '67270775_e9fdf77e9d.jpg', '560966032_988f4d7bc4.jpg', 'swiss-army-ant.jpg', '424119020_6d57481dab.jpg', '382971067_0bfd33afe0.jpg', '258217966_d9d90d18d3.jpg', 'termite-vs-ant.jpg', '1099452230_d1949d3250.jpg', '20935278_9190345f6b.jpg', '275429470_b2d7d9290b.jpg', '49375974_e28ba6f17e.jpg', '0013035.jpg', '150801171_cd86f17ed8.jpg', 'army-ants-red-picture.jpg', '339670531_94b75ae47a.jpg', '886401651_f878e888cd.jpg', '1262877379_64fcada201.jpg', '374435068_7eee412ec4.jpg', '226951206_d6bf946504.jpg', '1808777855_2a895621d7.jpg', '684133190_35b62c0c1d.jpg', '408393566_b5b694119b.jpg', '28847243_e79fe052cd.jpg', '188552436_605cc9b36b.jpg', '334167043_cbd1adaeb9.jpg', '892108839_f1aad4ca46.jpg', '69639610_95e0de17aa.jpg', '822537660_caf4ba5514.jpg', '201558278_fe4caecc76.jpg', '460372577_f2f6a8c9fc.jpg', 'VietnameseAntMimicSpider.jpg', '531979952_bde12b3bc0.jpg', '1286984635_5119e80de1.jpg', '2019439677_2db655d361.jpg', '167890289_dd5ba923f3.jpg', '255434217_1b2b3fe0a4.jpg']\n"
     ]
    }
   ],
   "source": [
    "dir_path = \"/home/tzr/Data_ML/Pytorch/demo1/hymenoptera_data/hymenoptera_data/train/ants\"\n",
    "image_path_list = os.listdir(dir_path)\n",
    "print(image_path_list)\n"
   ]
  }
 ],
 "metadata": {
  "interpreter": {
   "hash": "b40e8fefbbad258a66ad4b3a1c9d5cec9c956cca3c9d68730a2d3ef07128da02"
  },
  "kernelspec": {
   "display_name": "Python 3.8.12 ('RockLab')",
   "language": "python",
   "name": "python3"
  },
  "language_info": {
   "codemirror_mode": {
    "name": "ipython",
    "version": 3
   },
   "file_extension": ".py",
   "mimetype": "text/x-python",
   "name": "python",
   "nbconvert_exporter": "python",
   "pygments_lexer": "ipython3",
   "version": "3.8.12"
  },
  "orig_nbformat": 4
 },
 "nbformat": 4,
 "nbformat_minor": 2
}
