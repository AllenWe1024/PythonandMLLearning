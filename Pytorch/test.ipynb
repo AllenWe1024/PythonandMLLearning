{
 "cells": [
  {
   "cell_type": "code",
   "execution_count": null,
   "metadata": {},
   "outputs": [],
   "source": [
    "import torch"
   ]
  },
  {
   "cell_type": "code",
   "execution_count": null,
   "metadata": {},
   "outputs": [],
   "source": [
    "torch.cuda.is_available()"
   ]
  },
  {
   "cell_type": "code",
   "execution_count": null,
   "metadata": {},
   "outputs": [],
   "source": [
    "# print(dir(torch))"
   ]
  },
  {
   "cell_type": "code",
   "execution_count": null,
   "metadata": {},
   "outputs": [],
   "source": [
    "print(1)"
   ]
  },
  {
   "cell_type": "code",
   "execution_count": null,
   "metadata": {},
   "outputs": [],
   "source": [
    "# 可写函数说明\n",
    "def printinfo(name, age):\n",
    "    \"打印任何传入的字符串\"\n",
    "    print(\"名字: \", name)\n",
    "    print(\"年龄: \", age)\n",
    "    return\n",
    "# 调用printinfo函数\n",
    "\n",
    "\n",
    "printinfo(age=50, name=\"runoob\")\n"
   ]
  },
  {
   "cell_type": "code",
   "execution_count": null,
   "metadata": {},
   "outputs": [],
   "source": [
    "a = {'a': 'aaa', 'b': 'bbb'}\n",
    "for item in a:\n",
    "    print(item)\n"
   ]
  },
  {
   "cell_type": "code",
   "execution_count": null,
   "metadata": {},
   "outputs": [],
   "source": [
    "class Student:\n",
    "    def learn(self):\n",
    "        print(123)\n",
    "\n",
    "stu1=Student() \n",
    "stu1.learn()\n"
   ]
  },
  {
   "cell_type": "code",
   "execution_count": null,
   "metadata": {},
   "outputs": [],
   "source": [
    "a = True\n"
   ]
  },
  {
   "cell_type": "code",
   "execution_count": 13,
   "metadata": {},
   "outputs": [
    {
     "name": "stdout",
     "output_type": "stream",
     "text": [
      "5\n",
      "4\n",
      "3\n",
      "2\n"
     ]
    }
   ],
   "source": [
    "nums2 = [0, 1, 2, 3, 4, 5]\n",
    "# 输出 5, 4, 3, 2, 1, 0\n",
    "for i in range(5, 1, -1):\n",
    "    print(nums2[i])\n",
    " "
   ]
  },
  {
   "cell_type": "code",
   "execution_count": 26,
   "metadata": {},
   "outputs": [
    {
     "name": "stdout",
     "output_type": "stream",
     "text": [
      "3\n",
      "i= 0\n",
      "j= 1\n",
      "[1, 2, 3, 5, 0, 0]\n",
      "[1, 2, 3, 5, 0, 0]\n",
      "i= 1\n",
      "j= 3\n",
      "[1, 2, 3, 5, 5, 0]\n",
      "[1, 2, 3, 5, 5, 0]\n",
      "i= 2\n",
      "[1, 2, 3, 5, 5, 6]\n"
     ]
    }
   ],
   "source": [
    "nums1 = [1, 3, 5, 0, 0, 0]\n",
    "nums2 = [2, 5, 6]\n",
    "\n",
    "\"\"\"\n",
    "Do not return anything, modify nums1 in-place instead.\n",
    "\"\"\"\n",
    "print(len(nums2))\n",
    "for i in range(0, len(nums2)):\n",
    "    print('i=', i)\n",
    "    for j in range(0, len(nums1)):\n",
    "        if nums2[i] <= nums1[j]:\n",
    "            print('j=', j)\n",
    "            for k in range(len(nums1)-1, j, -1):\n",
    "                nums1[k] = nums1[k - 1]\n",
    "            nums1[j] = nums2[i]\n",
    "            print(nums1)\n",
    "            break\n",
    "        elif nums1[j] == 0:\n",
    "            nums1[j] = nums2[i]\n",
    "            break\n",
    "# for i in range(len(nums2) - 1, -1 ,-1):\n",
    "    print(nums1)\n"
   ]
  }
 ],
 "metadata": {
  "interpreter": {
   "hash": "05d65cd4537977b433b2ecb7c09140eb295f8ac02a4b83148aeab7e27a687994"
  },
  "kernelspec": {
   "display_name": "Python 3.6.13 ('RockLab1')",
   "language": "python",
   "name": "python3"
  },
  "language_info": {
   "codemirror_mode": {
    "name": "ipython",
    "version": 3
   },
   "file_extension": ".py",
   "mimetype": "text/x-python",
   "name": "python",
   "nbconvert_exporter": "python",
   "pygments_lexer": "ipython3",
   "version": "3.6.13"
  },
  "orig_nbformat": 4
 },
 "nbformat": 4,
 "nbformat_minor": 2
}
